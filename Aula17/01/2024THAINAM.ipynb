{
  "nbformat": 4,
  "nbformat_minor": 0,
  "metadata": {
    "colab": {
      "provenance": [],
      "authorship_tag": "ABX9TyM/G/GPKpprKYt3lEp8NvUY",
      "include_colab_link": true
    },
    "kernelspec": {
      "name": "python3",
      "display_name": "Python 3"
    },
    "language_info": {
      "name": "python"
    }
  },
  "cells": [
    {
      "cell_type": "markdown",
      "metadata": {
        "id": "view-in-github",
        "colab_type": "text"
      },
      "source": [
        "<a href=\"https://colab.research.google.com/github/dgrt20/dgrt20/blob/main/Aula17/01/2024THAINAM.ipynb\" target=\"_parent\"><img src=\"https://colab.research.google.com/assets/colab-badge.svg\" alt=\"Open In Colab\"/></a>"
      ]
    },
    {
      "cell_type": "markdown",
      "source": [
        "meu primeiro codigo em pyhton"
      ],
      "metadata": {
        "id": "eRqvwPP3UZFj"
      }
    },
    {
      "cell_type": "code",
      "execution_count": null,
      "metadata": {
        "id": "JO7jvMmkUQIP"
      },
      "outputs": [],
      "source": [
        "1# comentario\n",
        "print(1+1)\n",
        "print(9-5)\n",
        "print(5.0*2.2)\n",
        "print(5/3)\n",
        "print(5%2)  #aqui ele pega apenas o resto que sobra ao dividir 5/2. q fica 2*2 = 4 e o resto 1.\n",
        "print(5//2) #aqui ele esquece o o resto dps do .000 e pega apenas o numero inteiro.\n",
        "print(5**2) #aqui ele faz a potenciação do valor inserido."
      ]
    },
    {
      "cell_type": "markdown",
      "source": [
        "usando type"
      ],
      "metadata": {
        "id": "LxzrfDSbZvZG"
      }
    },
    {
      "cell_type": "code",
      "source": [
        "print(type(1)) #type demonstra se o valor colocado entre () é do tipo int, float, double etc..."
      ],
      "metadata": {
        "id": "PL5UEgS3WPsB"
      },
      "execution_count": null,
      "outputs": []
    },
    {
      "cell_type": "markdown",
      "source": [
        "demonstração de trues and falses"
      ],
      "metadata": {
        "id": "hJ-GYvF3Z1zO"
      }
    },
    {
      "cell_type": "code",
      "source": [
        "print(2>1)\n",
        "print(3>2)\n",
        "print(1<=3)\n",
        "print(5==7)"
      ],
      "metadata": {
        "id": "6FVC-jaUX08L"
      },
      "execution_count": null,
      "outputs": []
    },
    {
      "cell_type": "markdown",
      "source": [
        "Variaveis"
      ],
      "metadata": {
        "id": "lIwsiSgrYKRS"
      }
    },
    {
      "cell_type": "code",
      "source": [
        "numA = 2.5\n",
        "numB = 3\n",
        "print(type(numA), type(numB))\n",
        "print(numA * numB)"
      ],
      "metadata": {
        "id": "Co-h0U9wYOrD"
      },
      "execution_count": null,
      "outputs": []
    },
    {
      "cell_type": "markdown",
      "source": [
        "usando Strings em pyhton"
      ],
      "metadata": {
        "id": "_YvrCW4jZTK1"
      }
    },
    {
      "cell_type": "code",
      "source": [
        "nome = 'UFOP'\n",
        "print(nome, type(nome))\n",
        "print(nome.lower())     #muda as letras de caixa alta para baixa\n",
        "print(len(nome))        #mostra quantidade de letras"
      ],
      "metadata": {
        "id": "Lpvl17PPZWOc"
      },
      "execution_count": null,
      "outputs": []
    },
    {
      "cell_type": "markdown",
      "source": [
        "criando funçao tipo scanf, pedindo ao usuario para digitar ideias."
      ],
      "metadata": {
        "id": "OY_Khm7ia3ji"
      }
    },
    {
      "cell_type": "code",
      "source": [
        "nome = input('qual seu nome? ')\n",
        "print( \"ola,\" + nome + \"!\")\n",
        "\n",
        "idade = input('qual sua idade? ')\n",
        "num = int(idade) #para nao da erro em 2024 - idade, voce deve criar uma outra variavel para indicar que esse strg é tambem um inteiro(int)\n",
        "print(\"sua idade é \" + idade + \"!\" + \"Agora vou falar seu ano de nascimento.\")\n",
        "print(2024 - num)\n"
      ],
      "metadata": {
        "id": "W9cwnOf-a658"
      },
      "execution_count": null,
      "outputs": []
    },
    {
      "cell_type": "code",
      "source": [
        "print('qual sua data de nascimento em mes e dia?')\n",
        "idade1 = input('o mes:')\n",
        "idade2 = input('o dia:')\n",
        "idade3 = input('qual sua idade:')\n",
        "num1   = int(idade1)\n",
        "num2   = int(idade2)\n",
        "num3   = int(idade3)\n",
        "\n",
        "num4 = (num3 * 364) + (num1 * 30) + num2\n",
        "\n",
        "print(\"sua idade é em dias\")\n",
        "print(num4)"
      ],
      "metadata": {
        "colab": {
          "base_uri": "https://localhost:8080/"
        },
        "id": "cMqpGkXBd06l",
        "outputId": "d11fd396-3b94-4fc4-d6b6-b7cf3c61d34b"
      },
      "execution_count": 39,
      "outputs": [
        {
          "output_type": "stream",
          "name": "stdout",
          "text": [
            "qual sua data de nascimento em mes e dia?\n",
            "o mes:08\n",
            "o dia:25\n",
            "qual sua idade:20\n",
            "sua idade é em dias\n",
            "7545\n"
          ]
        }
      ]
    },
    {
      "cell_type": "code",
      "source": [],
      "metadata": {
        "id": "7yoYf5tsh1RQ"
      },
      "execution_count": null,
      "outputs": []
    },
    {
      "cell_type": "code",
      "source": [],
      "metadata": {
        "id": "BOC1afCsZ7C-"
      },
      "execution_count": null,
      "outputs": []
    }
  ]
}